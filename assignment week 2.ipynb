{
 "cells": [
  {
   "cell_type": "code",
   "execution_count": 3,
   "id": "8d2df106-b5dc-45c2-b592-953622957f44",
   "metadata": {},
   "outputs": [
    {
     "data": {
      "text/plain": [
       "'heee is another type of comment \\nwhich i use while write code'"
      ]
     },
     "execution_count": 3,
     "metadata": {},
     "output_type": "execute_result"
    }
   ],
   "source": [
    "#Q(1)\n",
    "#There are two type of comment i generally used and one of that i using now\n",
    "'''heee is another type of comment \n",
    "which i use while write code'''"
   ]
  },
  {
   "cell_type": "code",
   "execution_count": 4,
   "id": "7063083f-f451-46ad-9ea7-51aab7ced888",
   "metadata": {},
   "outputs": [],
   "source": [
    "#Q(2)\n",
    "a=80\n",
    "#a is a variable and 80 is data(value)  which assign a"
   ]
  },
  {
   "cell_type": "code",
   "execution_count": 10,
   "id": "b0f7c434-838a-490f-b166-1e7d43361168",
   "metadata": {},
   "outputs": [],
   "source": [
    "#Q(3)\n",
    "#here i converted one data int into str in next down cell\n",
    "pre= 203"
   ]
  },
  {
   "cell_type": "code",
   "execution_count": 6,
   "id": "e36f31ac-fd5d-433c-b693-ff3167579a2b",
   "metadata": {},
   "outputs": [
    {
     "data": {
      "text/plain": [
       "int"
      ]
     },
     "execution_count": 6,
     "metadata": {},
     "output_type": "execute_result"
    }
   ],
   "source": [
    "type(pre)"
   ]
  },
  {
   "cell_type": "code",
   "execution_count": 7,
   "id": "66f76fd9-681e-4c27-8121-28da8225f502",
   "metadata": {},
   "outputs": [
    {
     "data": {
      "text/plain": [
       "'203'"
      ]
     },
     "execution_count": 7,
     "metadata": {},
     "output_type": "execute_result"
    }
   ],
   "source": [
    "str(pre)"
   ]
  },
  {
   "cell_type": "code",
   "execution_count": 24,
   "id": "7dc7914c-eae2-41e5-bb09-fb40314a0f21",
   "metadata": {},
   "outputs": [],
   "source": [
    "#Q(4)\n",
    "def add(x,y):\n",
    "    return x+y"
   ]
  },
  {
   "cell_type": "code",
   "execution_count": 25,
   "id": "7d4ad6df-c9a8-458b-9b9e-da7ca3aece5b",
   "metadata": {},
   "outputs": [
    {
     "data": {
      "text/plain": [
       "95"
      ]
     },
     "execution_count": 25,
     "metadata": {},
     "output_type": "execute_result"
    }
   ],
   "source": [
    "add(25,70)"
   ]
  },
  {
   "cell_type": "code",
   "execution_count": 23,
   "id": "bb6f96b0-97ae-419a-b161-6d5d601d41b5",
   "metadata": {},
   "outputs": [],
   "source": [
    "#Q(5)\n",
    "my_list = [1, 2, 3, 4, 5]"
   ]
  },
  {
   "cell_type": "code",
   "execution_count": 12,
   "id": "37588789-ab22-4ee2-8b0a-5ea26cf6851f",
   "metadata": {},
   "outputs": [],
   "source": [
    "k=my_list"
   ]
  },
  {
   "cell_type": "code",
   "execution_count": 21,
   "id": "06d62f2b-f316-4760-8d81-5a2624a4cec8",
   "metadata": {},
   "outputs": [],
   "source": [
    "h=[]\n",
    "for i in k:\n",
    "    if i==2 or i==3:\n",
    "        h.append(i)"
   ]
  },
  {
   "cell_type": "code",
   "execution_count": 22,
   "id": "f9216609-9259-4c25-80bb-ae1c18b4a8fc",
   "metadata": {},
   "outputs": [
    {
     "data": {
      "text/plain": [
       "[2, 3]"
      ]
     },
     "execution_count": 22,
     "metadata": {},
     "output_type": "execute_result"
    }
   ],
   "source": [
    "h"
   ]
  },
  {
   "cell_type": "code",
   "execution_count": 29,
   "id": "3f4b8930-e884-4733-9903-a28defb9985a",
   "metadata": {},
   "outputs": [],
   "source": [
    "#Q(6)\n",
    "#in math complex number a+bi,a and b is real number and i is the imaginry number with value\n",
    "#in python we reprent complex number  4 +8j  a+bj"
   ]
  },
  {
   "cell_type": "code",
   "execution_count": 32,
   "id": "f8ae1a9d-b610-4176-9e13-e5f4bcf71774",
   "metadata": {},
   "outputs": [],
   "source": [
    "#Q(7)\n",
    "#correct way to declare a variable age and the value 25\n",
    "age= 25"
   ]
  },
  {
   "cell_type": "code",
   "execution_count": 34,
   "id": "c6aa3612-1d3f-4170-8588-577b1f90f520",
   "metadata": {},
   "outputs": [],
   "source": [
    "#Q(8)\n",
    "price =9.99"
   ]
  },
  {
   "cell_type": "code",
   "execution_count": 35,
   "id": "8dec7923-7184-49fb-9079-e1f9c7b64498",
   "metadata": {},
   "outputs": [
    {
     "data": {
      "text/plain": [
       "float"
      ]
     },
     "execution_count": 35,
     "metadata": {},
     "output_type": "execute_result"
    }
   ],
   "source": [
    "type(price)"
   ]
  },
  {
   "cell_type": "code",
   "execution_count": 38,
   "id": "dd5cddba-0989-43fd-a7aa-5569bbff819b",
   "metadata": {},
   "outputs": [],
   "source": [
    "#Q(9)\n",
    "name='karankumar'"
   ]
  },
  {
   "cell_type": "code",
   "execution_count": 37,
   "id": "313cfcdc-9e97-4c0e-b999-b4b91bbb45a7",
   "metadata": {},
   "outputs": [
    {
     "name": "stdout",
     "output_type": "stream",
     "text": [
      "karankumar\n"
     ]
    }
   ],
   "source": [
    "print(name)"
   ]
  },
  {
   "cell_type": "code",
   "execution_count": 44,
   "id": "d92e2ce9-4c91-4802-b211-f60a37fdb9ef",
   "metadata": {},
   "outputs": [],
   "source": [
    "#Q(10)\n",
    "b=\"hello world\""
   ]
  },
  {
   "cell_type": "code",
   "execution_count": 43,
   "id": "bcb86983-772e-43a4-b813-16e6c7258d57",
   "metadata": {},
   "outputs": [
    {
     "data": {
      "text/plain": [
       "' world'"
      ]
     },
     "execution_count": 43,
     "metadata": {},
     "output_type": "execute_result"
    }
   ],
   "source": [
    "b.strip(\"hello\")"
   ]
  },
  {
   "cell_type": "code",
   "execution_count": 45,
   "id": "9709c552-acb5-43a6-9d33-3c0c25691be9",
   "metadata": {},
   "outputs": [
    {
     "ename": "SyntaxError",
     "evalue": "invalid syntax (3947384956.py, line 1)",
     "output_type": "error",
     "traceback": [
      "\u001b[0;36m  Cell \u001b[0;32mIn[45], line 1\u001b[0;36m\u001b[0m\n\u001b[0;31m    Q11. Create a variable named \"is_student\" and assign it a boolean value indicating whether you are\u001b[0m\n\u001b[0m                ^\u001b[0m\n\u001b[0;31mSyntaxError\u001b[0m\u001b[0;31m:\u001b[0m invalid syntax\n"
     ]
    }
   ],
   "source": [
    "Q11. Create a variable named \"is_student\" and assign it a boolean value indicating whether you are\n",
    "currently a student or not."
   ]
  },
  {
   "cell_type": "code",
   "execution_count": 46,
   "id": "5422907c-c90a-407e-af84-746a554832f1",
   "metadata": {},
   "outputs": [],
   "source": [
    "k='student'"
   ]
  },
  {
   "cell_type": "code",
   "execution_count": null,
   "id": "dc5c3dc3-b422-4ea7-a9e7-e644553742f8",
   "metadata": {},
   "outputs": [],
   "source": [
    "\"is_student\"="
   ]
  }
 ],
 "metadata": {
  "kernelspec": {
   "display_name": "Python 3 (ipykernel)",
   "language": "python",
   "name": "python3"
  },
  "language_info": {
   "codemirror_mode": {
    "name": "ipython",
    "version": 3
   },
   "file_extension": ".py",
   "mimetype": "text/x-python",
   "name": "python",
   "nbconvert_exporter": "python",
   "pygments_lexer": "ipython3",
   "version": "3.10.8"
  }
 },
 "nbformat": 4,
 "nbformat_minor": 5
}
